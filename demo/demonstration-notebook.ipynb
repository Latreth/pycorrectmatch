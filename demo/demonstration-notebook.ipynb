{
 "cells": [
  {
   "cell_type": "code",
   "execution_count": 1,
   "metadata": {},
   "outputs": [],
   "source": [
    "import correctmatch\n",
    "correctmatch.precompile()\n",
    "\n",
    "import numpy as np\n",
    "import pandas as pd"
   ]
  },
  {
   "cell_type": "markdown",
   "metadata": {},
   "source": [
    "# Tests with a basic dataset"
   ]
  },
  {
   "cell_type": "code",
   "execution_count": 2,
   "metadata": {},
   "outputs": [
    {
     "data": {
      "text/plain": [
       "array([[1, 1, 1, 3, 1],\n",
       "       [3, 3, 2, 3, 3],\n",
       "       [3, 3, 4, 3, 2],\n",
       "       [3, 4, 3, 3, 3],\n",
       "       [3, 4, 2, 2, 4]])"
      ]
     },
     "execution_count": 2,
     "metadata": {},
     "output_type": "execute_result"
    }
   ],
   "source": [
    "arr = np.random.randint(1, 5, size=(1000, 5))\n",
    "arr[:5, :]"
   ]
  },
  {
   "cell_type": "code",
   "execution_count": 3,
   "metadata": {},
   "outputs": [
    {
     "data": {
      "text/plain": [
       "0.38"
      ]
     },
     "execution_count": 3,
     "metadata": {},
     "output_type": "execute_result"
    }
   ],
   "source": [
    "correctmatch.uniqueness(arr)"
   ]
  },
  {
   "cell_type": "code",
   "execution_count": 4,
   "metadata": {},
   "outputs": [],
   "source": [
    "fitted_model = correctmatch.fit_model(arr)"
   ]
  },
  {
   "cell_type": "code",
   "execution_count": 35,
   "metadata": {},
   "outputs": [
    {
     "data": {
      "text/plain": [
       "<PyCall.jlwrap correctmatch.Copula.GaussianCopula(\n",
       "Σ: PDMats.PDMat{Float64,Array{Float64,2}}(5, [1.0 0.0 0.0 0.0 0.0; 0.0 1.0 0.0 0.0 0.0; 0.0 0.0 1.0 0.0 0.0; 0.0 0.0 0.0 1.0 0.0; 0.0 0.0 0.0 0.0 1.0], Base.LinAlg.Cholesky{Float64,Array{Float64,2}} with factor:\n",
       "[1.0 0.0 0.0 0.0 0.0; 0.0 1.0 0.0 0.0 0.0; 0.0 0.0 1.0 0.0 0.0; 0.0 0.0 0.0 1.0 0.0; 0.0 0.0 0.0 0.0 1.0])\n",
       "marginals: Distributions.Distribution{Distributions.Univariate,Distributions.Discrete}[Distributions.Categorical{Float64}(K=4, p=[0.266, 0.247, 0.244, 0.243]), Distributions.Categorical{Float64}(K=4, p=[0.287, 0.272, 0.226, 0.215]), Distributions.Categorical{Float64}(K=4, p=[0.264, 0.249, 0.245, 0.242]), Distributions.Categorical{Float64}(K=4, p=[0.266, 0.252, 0.249, 0.233]), Distributions.Categorical{Float64}(K=4, p=[0.272, 0.254, 0.245, 0.229])]\n",
       ")\n",
       ">"
      ]
     },
     "execution_count": 35,
     "metadata": {},
     "output_type": "execute_result"
    }
   ],
   "source": [
    "fitted_model"
   ]
  },
  {
   "cell_type": "code",
   "execution_count": 7,
   "metadata": {},
   "outputs": [
    {
     "data": {
      "text/plain": [
       "array([[ 1.  ,  0.  ,  0.06,  0.13,  0.  ],\n",
       "       [ 0.  ,  1.  ,  0.06, -0.  ,  0.1 ],\n",
       "       [ 0.06,  0.06,  1.  ,  0.09,  0.  ],\n",
       "       [ 0.13, -0.  ,  0.09,  1.  ,  0.  ],\n",
       "       [ 0.  ,  0.1 ,  0.  ,  0.  ,  1.  ]])"
      ]
     },
     "execution_count": 7,
     "metadata": {},
     "output_type": "execute_result"
    }
   ],
   "source": [
    "# Covariance matrix\n",
    "fitted_model.Σ.mat.round(2)"
   ]
  },
  {
   "cell_type": "code",
   "execution_count": 8,
   "metadata": {},
   "outputs": [
    {
     "data": {
      "text/plain": [
       "[<PyCall.jlwrap Distributions.Categorical{Float64}(K=4, p=[0.277, 0.245, 0.245, 0.233])>,\n",
       " <PyCall.jlwrap Distributions.Categorical{Float64}(K=4, p=[0.263, 0.262, 0.239, 0.236])>,\n",
       " <PyCall.jlwrap Distributions.Categorical{Float64}(K=4, p=[0.27, 0.26, 0.239, 0.231])>,\n",
       " <PyCall.jlwrap Distributions.Categorical{Float64}(K=4, p=[0.272, 0.245, 0.242, 0.241])>,\n",
       " <PyCall.jlwrap Distributions.Categorical{Float64}(K=4, p=[0.257, 0.257, 0.244, 0.242])>]"
      ]
     },
     "execution_count": 8,
     "metadata": {},
     "output_type": "execute_result"
    }
   ],
   "source": [
    "# Fitted marginals\n",
    "fitted_model.marginals"
   ]
  },
  {
   "cell_type": "code",
   "execution_count": 9,
   "metadata": {},
   "outputs": [
    {
     "data": {
      "text/plain": [
       "array([[4, 2, 1, 4, 1],\n",
       "       [4, 2, 3, 2, 3],\n",
       "       [1, 3, 1, 3, 1],\n",
       "       [1, 3, 3, 1, 4]], dtype=int64)"
      ]
     },
     "execution_count": 9,
     "metadata": {},
     "output_type": "execute_result"
    }
   ],
   "source": [
    "fitted_arr = correctmatch.sample_model(fitted_model, 1000)\n",
    "fitted_arr[1:5, :]"
   ]
  },
  {
   "cell_type": "code",
   "execution_count": 39,
   "metadata": {},
   "outputs": [
    {
     "data": {
      "text/plain": [
       "0.393"
      ]
     },
     "execution_count": 39,
     "metadata": {},
     "output_type": "execute_result"
    }
   ],
   "source": [
    "correctmatch.uniqueness(fitted_arr)"
   ]
  },
  {
   "cell_type": "markdown",
   "metadata": {},
   "source": [
    "# Tests with a real dataset"
   ]
  },
  {
   "cell_type": "code",
   "execution_count": 13,
   "metadata": {},
   "outputs": [
    {
     "data": {
      "text/html": [
       "<div>\n",
       "<style scoped>\n",
       "    .dataframe tbody tr th:only-of-type {\n",
       "        vertical-align: middle;\n",
       "    }\n",
       "\n",
       "    .dataframe tbody tr th {\n",
       "        vertical-align: top;\n",
       "    }\n",
       "\n",
       "    .dataframe thead th {\n",
       "        text-align: right;\n",
       "    }\n",
       "</style>\n",
       "<table border=\"1\" class=\"dataframe\">\n",
       "  <thead>\n",
       "    <tr style=\"text-align: right;\">\n",
       "      <th></th>\n",
       "      <th>age</th>\n",
       "      <th>workclass</th>\n",
       "      <th>education-num</th>\n",
       "      <th>marital-status</th>\n",
       "      <th>occupation</th>\n",
       "      <th>relationship</th>\n",
       "      <th>race</th>\n",
       "      <th>sex</th>\n",
       "      <th>hours-per-week</th>\n",
       "      <th>native-country</th>\n",
       "      <th>income</th>\n",
       "    </tr>\n",
       "  </thead>\n",
       "  <tbody>\n",
       "    <tr>\n",
       "      <th>0</th>\n",
       "      <td>39</td>\n",
       "      <td>7</td>\n",
       "      <td>13</td>\n",
       "      <td>4</td>\n",
       "      <td>1</td>\n",
       "      <td>1</td>\n",
       "      <td>4</td>\n",
       "      <td>1</td>\n",
       "      <td>40</td>\n",
       "      <td>39</td>\n",
       "      <td>0</td>\n",
       "    </tr>\n",
       "    <tr>\n",
       "      <th>1</th>\n",
       "      <td>50</td>\n",
       "      <td>6</td>\n",
       "      <td>13</td>\n",
       "      <td>2</td>\n",
       "      <td>4</td>\n",
       "      <td>0</td>\n",
       "      <td>4</td>\n",
       "      <td>1</td>\n",
       "      <td>13</td>\n",
       "      <td>39</td>\n",
       "      <td>0</td>\n",
       "    </tr>\n",
       "    <tr>\n",
       "      <th>2</th>\n",
       "      <td>38</td>\n",
       "      <td>4</td>\n",
       "      <td>9</td>\n",
       "      <td>0</td>\n",
       "      <td>6</td>\n",
       "      <td>1</td>\n",
       "      <td>4</td>\n",
       "      <td>1</td>\n",
       "      <td>40</td>\n",
       "      <td>39</td>\n",
       "      <td>0</td>\n",
       "    </tr>\n",
       "    <tr>\n",
       "      <th>3</th>\n",
       "      <td>53</td>\n",
       "      <td>4</td>\n",
       "      <td>7</td>\n",
       "      <td>2</td>\n",
       "      <td>6</td>\n",
       "      <td>0</td>\n",
       "      <td>2</td>\n",
       "      <td>1</td>\n",
       "      <td>40</td>\n",
       "      <td>39</td>\n",
       "      <td>0</td>\n",
       "    </tr>\n",
       "    <tr>\n",
       "      <th>4</th>\n",
       "      <td>28</td>\n",
       "      <td>4</td>\n",
       "      <td>13</td>\n",
       "      <td>2</td>\n",
       "      <td>10</td>\n",
       "      <td>5</td>\n",
       "      <td>2</td>\n",
       "      <td>0</td>\n",
       "      <td>40</td>\n",
       "      <td>5</td>\n",
       "      <td>0</td>\n",
       "    </tr>\n",
       "  </tbody>\n",
       "</table>\n",
       "</div>"
      ],
      "text/plain": [
       "   age  workclass  education-num  marital-status  occupation  relationship  \\\n",
       "0   39          7             13               4           1             1   \n",
       "1   50          6             13               2           4             0   \n",
       "2   38          4              9               0           6             1   \n",
       "3   53          4              7               2           6             0   \n",
       "4   28          4             13               2          10             5   \n",
       "\n",
       "   race  sex  hours-per-week  native-country  income  \n",
       "0     4    1              40              39       0  \n",
       "1     4    1              13              39       0  \n",
       "2     4    1              40              39       0  \n",
       "3     2    1              40              39       0  \n",
       "4     2    0              40               5       0  "
      ]
     },
     "execution_count": 13,
     "metadata": {},
     "output_type": "execute_result"
    }
   ],
   "source": [
    "adults = pd.read_csv('adults.csv')\n",
    "adults.head()"
   ]
  },
  {
   "cell_type": "code",
   "execution_count": 14,
   "metadata": {},
   "outputs": [
    {
     "data": {
      "text/plain": [
       "32561"
      ]
     },
     "execution_count": 14,
     "metadata": {},
     "output_type": "execute_result"
    }
   ],
   "source": [
    "len(adults)"
   ]
  },
  {
   "cell_type": "code",
   "execution_count": 11,
   "metadata": {},
   "outputs": [
    {
     "data": {
      "text/plain": [
       "array([[50,  6, 13,  2,  4,  0,  4,  1, 13, 39,  0],\n",
       "       [38,  4,  9,  0,  6,  1,  4,  1, 40, 39,  0],\n",
       "       [53,  4,  7,  2,  6,  0,  2,  1, 40, 39,  0],\n",
       "       [28,  4, 13,  2, 10,  5,  2,  0, 40,  5,  0]])"
      ]
     },
     "execution_count": 11,
     "metadata": {},
     "output_type": "execute_result"
    }
   ],
   "source": [
    "adults.values[1:5, :]"
   ]
  },
  {
   "cell_type": "code",
   "execution_count": 42,
   "metadata": {},
   "outputs": [
    {
     "data": {
      "text/plain": [
       "0.793894536408587"
      ]
     },
     "execution_count": 42,
     "metadata": {},
     "output_type": "execute_result"
    }
   ],
   "source": [
    "correctmatch.uniqueness(adults.values)"
   ]
  },
  {
   "cell_type": "code",
   "execution_count": 15,
   "metadata": {},
   "outputs": [],
   "source": [
    "fitted_model = correctmatch.fit_model(adults.values)"
   ]
  },
  {
   "cell_type": "code",
   "execution_count": 16,
   "metadata": {},
   "outputs": [
    {
     "data": {
      "text/plain": [
       "array([[34,  2,  2,  2,  5,  2,  1,  1,  1,  1,  1],\n",
       "       [36,  1,  2,  5,  5,  5,  1,  2, 18,  1,  2],\n",
       "       [25,  1,  5,  1,  1,  1,  1,  1,  0,  1,  1],\n",
       "       [22,  1,  2,  1,  4,  1,  1,  1,  3,  1,  1]], dtype=int64)"
      ]
     },
     "execution_count": 16,
     "metadata": {},
     "output_type": "execute_result"
    }
   ],
   "source": [
    "fitted_adults = correctmatch.sample_model(fitted_model, adults.shape[0])\n",
    "fitted_adults[1:5, :]"
   ]
  },
  {
   "cell_type": "code",
   "execution_count": 17,
   "metadata": {},
   "outputs": [
    {
     "data": {
      "text/plain": [
       "0.735388962255459"
      ]
     },
     "execution_count": 17,
     "metadata": {},
     "output_type": "execute_result"
    }
   ],
   "source": [
    "correctmatch.uniqueness(fitted_adults)"
   ]
  },
  {
   "cell_type": "markdown",
   "metadata": {},
   "source": [
    "# Tests with a sample"
   ]
  },
  {
   "cell_type": "code",
   "execution_count": 18,
   "metadata": {},
   "outputs": [
    {
     "data": {
      "text/plain": [
       "32561"
      ]
     },
     "execution_count": 18,
     "metadata": {},
     "output_type": "execute_result"
    }
   ],
   "source": [
    "adults.shape[0]"
   ]
  },
  {
   "cell_type": "code",
   "execution_count": 19,
   "metadata": {},
   "outputs": [],
   "source": [
    "fitted_model = correctmatch.fit_model(adults.sample(3000).values)"
   ]
  },
  {
   "cell_type": "code",
   "execution_count": 20,
   "metadata": {},
   "outputs": [
    {
     "data": {
      "text/plain": [
       "array([[15,  1,  1,  2,  3,  2,  0,  1,  6,  0,  2],\n",
       "       [87,  6,  7,  3, 11,  4,  0,  1,  8,  0,  1],\n",
       "       [20,  5,  2,  3,  7,  5,  0,  2, 12,  0,  1],\n",
       "       [25,  1,  7,  4,  6,  5,  2,  2,  0, 18,  2]], dtype=int64)"
      ]
     },
     "execution_count": 20,
     "metadata": {},
     "output_type": "execute_result"
    }
   ],
   "source": [
    "fitted_adults = correctmatch.sample_model(fitted_model, adults.shape[0])\n",
    "fitted_adults[1:5, :]"
   ]
  },
  {
   "cell_type": "code",
   "execution_count": 21,
   "metadata": {},
   "outputs": [
    {
     "data": {
      "text/plain": [
       "0.7317035717576241"
      ]
     },
     "execution_count": 21,
     "metadata": {},
     "output_type": "execute_result"
    }
   ],
   "source": [
    "correctmatch.uniqueness(fitted_adults)"
   ]
  },
  {
   "cell_type": "code",
   "execution_count": 28,
   "metadata": {},
   "outputs": [],
   "source": [
    "fitted_model = correctmatch.fit_model(adults.sample(300).values)"
   ]
  },
  {
   "cell_type": "code",
   "execution_count": 31,
   "metadata": {},
   "outputs": [
    {
     "data": {
      "text/plain": [
       "array([[ 1,  1,  0,  0,  3,  1,  1,  1,  1,  1,  0],\n",
       "       [ 4,  1,  0,  0,  0,  0,  1,  2,  9,  1,  0],\n",
       "       [ 3,  1,  1,  0,  1,  0,  1,  1,  0,  1,  0],\n",
       "       [15,  1,  1,  2, 11,  3,  1,  1,  2,  1,  1]], dtype=int64)"
      ]
     },
     "execution_count": 31,
     "metadata": {},
     "output_type": "execute_result"
    }
   ],
   "source": [
    "fitted_adults = correctmatch.sample_model(fitted_model, adults.shape[0])\n",
    "fitted_adults[1:5, :]"
   ]
  },
  {
   "cell_type": "code",
   "execution_count": 32,
   "metadata": {},
   "outputs": [
    {
     "data": {
      "text/plain": [
       "0.8036608212278493"
      ]
     },
     "execution_count": 32,
     "metadata": {},
     "output_type": "execute_result"
    }
   ],
   "source": [
    "correctmatch.uniqueness(fitted_adults)"
   ]
  },
  {
   "cell_type": "code",
   "execution_count": 33,
   "metadata": {},
   "outputs": [
    {
     "data": {
      "text/plain": [
       "[<PyCall.jlwrap Distributions.Geometric{Float64}(p=0.10869565198824072)>,\n",
       " <PyCall.jlwrap correctmatch.Marginal.Logarithmic{Float64}(p=0.48712140086711714)>,\n",
       " <PyCall.jlwrap Distributions.Geometric{Float64}(p=0.28037382749004985)>,\n",
       " <PyCall.jlwrap Distributions.NegativeBinomial{Float64}(r=15.6409920341873, p=0.9455897202758063)>,\n",
       " <PyCall.jlwrap Distributions.Geometric{Float64}(p=0.2564102608927633)>,\n",
       " <PyCall.jlwrap Distributions.NegativeBinomial{Float64}(r=1112.2036836687237, p=0.9989521189965755)>,\n",
       " <PyCall.jlwrap correctmatch.Marginal.Logarithmic{Float64}(p=0.34720426209046445)>,\n",
       " <PyCall.jlwrap Distributions.Categorical{Float64}(K=2, p=[0.633333, 0.366667])>,\n",
       " <PyCall.jlwrap Distributions.Geometric{Float64}(p=0.2189780988533817)>,\n",
       " <PyCall.jlwrap correctmatch.Marginal.Logarithmic{Float64}(p=0.3140494205442313)>,\n",
       " <PyCall.jlwrap Distributions.Geometric{Float64}(p=0.8333333359198016)>]"
      ]
     },
     "execution_count": 33,
     "metadata": {},
     "output_type": "execute_result"
    }
   ],
   "source": [
    "fitted_model.marginals"
   ]
  }
 ],
 "metadata": {
  "kernelspec": {
   "display_name": "Python 3",
   "language": "python",
   "name": "python3"
  },
  "language_info": {
   "codemirror_mode": {
    "name": "ipython",
    "version": 3
   },
   "file_extension": ".py",
   "mimetype": "text/x-python",
   "name": "python",
   "nbconvert_exporter": "python",
   "pygments_lexer": "ipython3",
   "version": "3.6.6"
  },
  "toc": {
   "nav_menu": {},
   "number_sections": true,
   "sideBar": true,
   "skip_h1_title": false,
   "title_cell": "Table of Contents",
   "title_sidebar": "Contents",
   "toc_cell": false,
   "toc_position": {},
   "toc_section_display": true,
   "toc_window_display": false
  }
 },
 "nbformat": 4,
 "nbformat_minor": 2
}
